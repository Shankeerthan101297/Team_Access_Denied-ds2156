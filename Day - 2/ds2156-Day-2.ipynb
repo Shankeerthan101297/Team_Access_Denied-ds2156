{
 "cells": [
  {
   "cell_type": "markdown",
   "id": "familiar-milan",
   "metadata": {},
   "source": [
    "## Read the train, validation and test datasets"
   ]
  },
  {
   "cell_type": "code",
   "execution_count": 2,
   "id": "amber-slovak",
   "metadata": {},
   "outputs": [],
   "source": [
    "import numpy as np\n",
    "import pandas as pd\n",
    "\n",
    "train_      = pd.read_csv('C:/Users/Shankeerthan/Desktop/DATA STORM 2021/updated data/train.csv')\n",
    "validation_ = pd.read_csv('C:/Users/Shankeerthan/Desktop/DATA STORM 2021/updated data/validation.csv')\n",
    "test       = pd.read_csv('C:/Users/Shankeerthan/Desktop/DATA STORM 2021/updated data/test.csv')"
   ]
  },
  {
   "cell_type": "markdown",
   "id": "accredited-louisiana",
   "metadata": {},
   "source": [
    "## Concatenate train and validation datasets"
   ]
  },
  {
   "cell_type": "code",
   "execution_count": 3,
   "id": "excess-approach",
   "metadata": {},
   "outputs": [],
   "source": [
    "frames = [train_,validation_]\n",
    "data = pd.concat(frames)"
   ]
  },
  {
   "cell_type": "markdown",
   "id": "motivated-affiliate",
   "metadata": {},
   "source": [
    "## Data preprocessing"
   ]
  },
  {
   "cell_type": "code",
   "execution_count": 4,
   "id": "advanced-cartoon",
   "metadata": {},
   "outputs": [],
   "source": [
    "Change_values = {'Gender':{'M':1, 'F':0},\n",
    "                'Ethnicity':{'Latino':3,'African American':2,'Asian American':1, 'caucasian':0},\n",
    "                'Educational_Level':{'Mid-School':0,'High-School':1,'College':2,'Grad':3},\n",
    "                'Income':{'<25K':0,'25K --50K':1,'50K -- 100K':2,'>100K':3},\n",
    "                'Country_region':{'North':3,'South':2,'East':1,'West':0},\n",
    "                'Hotel_Type':{'City Hotel':2,'Airport Hotels':1,'Resort':0},\n",
    "                'Meal_Type':{'BB':0,'HB':1,'FB':2},\n",
    "                'Visted_Previously':{'Yes':1,'No':0},\n",
    "                'Previous_Cancellations':{'Yes':1,'No':0},\n",
    "                'Deposit_type':{'Refundable':2,'Non-Refundable':1, 'No Deposit':0},\n",
    "                'Booking_channel':{'Direct':2,'Agent':1,'Online':0},\n",
    "                'Required_Car_Parking':{'Yes':1,'No':0},\n",
    "                'Reservation_Status':{'Check-In':2,'Canceled':1,'No-Show':0},\n",
    "                'Use_Promotion':{'Yes':1,'No':0},\n",
    "                }\n",
    "\n",
    "data.replace(Change_values, inplace=True)\n",
    "test.replace(Change_values, inplace=True)\n",
    "\n",
    "data.pop('Expected_checkin')\n",
    "data.pop('Expected_checkout')\n",
    "data.pop('Booking_date')\n",
    "\n",
    "test.pop('Expected_checkin')\n",
    "test.pop('Expected_checkout')\n",
    "test.pop('Booking_date')\n",
    "\n",
    "index_d=data.pop('Reservation-id')\n",
    "index_te=test.pop('Reservation-id')"
   ]
  },
  {
   "cell_type": "markdown",
   "id": "behind-defeat",
   "metadata": {},
   "source": [
    "## Data Cleaning"
   ]
  },
  {
   "cell_type": "code",
   "execution_count": 5,
   "id": "numerical-export",
   "metadata": {},
   "outputs": [],
   "source": [
    "data.drop(data[data['Booked_before_checkin'] < 0].index, axis = 0, inplace = True)\n",
    "data.drop(data[data['Booked_before_checkin'] > 365].index, axis = 0, inplace = True)\n",
    "data.drop(data[data[\"Previous_Cancellations\"] == 1].index, axis = 0, inplace = True)\n",
    "data.drop(['Previous_Cancellations'], axis = 1, inplace = True)\n",
    "\n",
    "test.drop(['Previous_Cancellations'], axis = 1, inplace = True)\n",
    "\n",
    "label_d=data.pop('Reservation_Status')"
   ]
  },
  {
   "cell_type": "markdown",
   "id": "dried-convert",
   "metadata": {},
   "source": [
    "## Oversampling for imbalanced Data"
   ]
  },
  {
   "cell_type": "code",
   "execution_count": 6,
   "id": "clean-belly",
   "metadata": {},
   "outputs": [
    {
     "name": "stdout",
     "output_type": "stream",
     "text": [
      "Class=2, n=19102 (33.333%)\n",
      "Class=1, n=19102 (33.333%)\n",
      "Class=0, n=19102 (33.333%)\n"
     ]
    },
    {
     "data": {
      "image/png": "[encoded data removed]",
      "text/plain": [
       "<Figure size 432x288 with 1 Axes>"
      ]
     },
     "metadata": {
      "needs_background": "light"
     },
     "output_type": "display_data"
    }
   ],
   "source": [
    "import imblearn\n",
    "from imblearn.over_sampling import SMOTE\n",
    "from collections import Counter\n",
    "from matplotlib import pyplot\n",
    "from sklearn.preprocessing import LabelEncoder\n",
    "\n",
    "label_d = LabelEncoder().fit_transform(label_d)\n",
    "\n",
    "oversample = SMOTE()\n",
    "data,label_d = oversample.fit_resample(data, label_d)\n",
    "\n",
    "counter = Counter(label_d)\n",
    "for k,v in counter.items():\n",
    "    per = v / len(label_d) * 100\n",
    "    print('Class=%d, n=%d (%.3f%%)' % (k, v, per))\n",
    "\n",
    "pyplot.bar(counter.keys(), counter.values())\n",
    "pyplot.show()"
   ]
  },
  {
   "cell_type": "markdown",
   "id": "amateur-marking",
   "metadata": {},
   "source": [
    "## Split the data as train and validation"
   ]
  },
  {
   "cell_type": "code",
   "execution_count": 7,
   "id": "enormous-spouse",
   "metadata": {},
   "outputs": [],
   "source": [
    "from sklearn.model_selection import train_test_split\n",
    "from sklearn.metrics import f1_score\n",
    "\n",
    "train, validation, label_t, label_v = train_test_split( data, label_d, test_size = 0.38,random_state=100)"
   ]
  },
  {
   "cell_type": "markdown",
   "id": "impaired-vintage",
   "metadata": {},
   "source": [
    "## Describe the train data"
   ]
  },
  {
   "cell_type": "code",
   "execution_count": 8,
   "id": "orange-wheat",
   "metadata": {},
   "outputs": [
    {
     "data": {
      "text/html": [
       "<div>\n",
       "<style scoped>\n",
       "    .dataframe tbody tr th:only-of-type {\n",
       "        vertical-align: middle;\n",
       "    }\n",
       "\n",
       "    .dataframe tbody tr th {\n",
       "        vertical-align: top;\n",
       "    }\n",
       "\n",
       "    .dataframe thead th {\n",
       "        text-align: right;\n",
       "    }\n",
       "</style>\n",
       "<table border=\"1\" class=\"dataframe\">\n",
       "  <thead>\n",
       "    <tr style=\"text-align: right;\">\n",
       "      <th></th>\n",
       "      <th>Gender</th>\n",
       "      <th>Age</th>\n",
       "      <th>Ethnicity</th>\n",
       "      <th>Educational_Level</th>\n",
       "      <th>Income</th>\n",
       "      <th>Country_region</th>\n",
       "      <th>Hotel_Type</th>\n",
       "      <th>Adults</th>\n",
       "      <th>Children</th>\n",
       "      <th>Babies</th>\n",
       "      <th>Meal_Type</th>\n",
       "      <th>Visted_Previously</th>\n",
       "      <th>Deposit_type</th>\n",
       "      <th>Booking_channel</th>\n",
       "      <th>Required_Car_Parking</th>\n",
       "      <th>Use_Promotion</th>\n",
       "      <th>Discount_Rate</th>\n",
       "      <th>Room_Rate</th>\n",
       "      <th>Expected_days_spend</th>\n",
       "      <th>Booked_before_checkin</th>\n",
       "    </tr>\n",
       "  </thead>\n",
       "  <tbody>\n",
       "    <tr>\n",
       "      <th>count</th>\n",
       "      <td>35529.000000</td>\n",
       "      <td>35529.000000</td>\n",
       "      <td>35529.000000</td>\n",
       "      <td>35529.000000</td>\n",
       "      <td>35529.000000</td>\n",
       "      <td>35529.000000</td>\n",
       "      <td>35529.000000</td>\n",
       "      <td>35529.000000</td>\n",
       "      <td>35529.000000</td>\n",
       "      <td>35529.000000</td>\n",
       "      <td>35529.000000</td>\n",
       "      <td>35529.000000</td>\n",
       "      <td>35529.000000</td>\n",
       "      <td>35529.000000</td>\n",
       "      <td>35529.000000</td>\n",
       "      <td>35529.000000</td>\n",
       "      <td>35529.000000</td>\n",
       "      <td>35529.000000</td>\n",
       "      <td>35529.000000</td>\n",
       "      <td>35529.000000</td>\n",
       "    </tr>\n",
       "    <tr>\n",
       "      <th>mean</th>\n",
       "      <td>0.362014</td>\n",
       "      <td>43.643024</td>\n",
       "      <td>1.303780</td>\n",
       "      <td>1.398520</td>\n",
       "      <td>1.089701</td>\n",
       "      <td>1.418616</td>\n",
       "      <td>0.814574</td>\n",
       "      <td>2.130598</td>\n",
       "      <td>1.575248</td>\n",
       "      <td>0.228433</td>\n",
       "      <td>0.674266</td>\n",
       "      <td>0.145825</td>\n",
       "      <td>0.444088</td>\n",
       "      <td>0.567452</td>\n",
       "      <td>0.595570</td>\n",
       "      <td>0.710884</td>\n",
       "      <td>12.147485</td>\n",
       "      <td>174.649920</td>\n",
       "      <td>1.638380</td>\n",
       "      <td>110.066762</td>\n",
       "    </tr>\n",
       "    <tr>\n",
       "      <th>std</th>\n",
       "      <td>0.480590</td>\n",
       "      <td>14.963889</td>\n",
       "      <td>1.023182</td>\n",
       "      <td>0.944419</td>\n",
       "      <td>0.938000</td>\n",
       "      <td>0.949006</td>\n",
       "      <td>0.752995</td>\n",
       "      <td>1.045681</td>\n",
       "      <td>0.649534</td>\n",
       "      <td>0.473458</td>\n",
       "      <td>0.720968</td>\n",
       "      <td>0.352935</td>\n",
       "      <td>0.734005</td>\n",
       "      <td>0.775319</td>\n",
       "      <td>0.490788</td>\n",
       "      <td>0.453358</td>\n",
       "      <td>10.798521</td>\n",
       "      <td>43.754409</td>\n",
       "      <td>0.849452</td>\n",
       "      <td>67.380627</td>\n",
       "    </tr>\n",
       "    <tr>\n",
       "      <th>min</th>\n",
       "      <td>0.000000</td>\n",
       "      <td>18.000000</td>\n",
       "      <td>0.000000</td>\n",
       "      <td>0.000000</td>\n",
       "      <td>0.000000</td>\n",
       "      <td>0.000000</td>\n",
       "      <td>0.000000</td>\n",
       "      <td>1.000000</td>\n",
       "      <td>1.000000</td>\n",
       "      <td>0.000000</td>\n",
       "      <td>0.000000</td>\n",
       "      <td>0.000000</td>\n",
       "      <td>0.000000</td>\n",
       "      <td>0.000000</td>\n",
       "      <td>0.000000</td>\n",
       "      <td>0.000000</td>\n",
       "      <td>0.000000</td>\n",
       "      <td>100.000000</td>\n",
       "      <td>1.000000</td>\n",
       "      <td>0.000000</td>\n",
       "    </tr>\n",
       "    <tr>\n",
       "      <th>25%</th>\n",
       "      <td>0.000000</td>\n",
       "      <td>31.000000</td>\n",
       "      <td>0.000000</td>\n",
       "      <td>1.000000</td>\n",
       "      <td>0.000000</td>\n",
       "      <td>1.000000</td>\n",
       "      <td>0.000000</td>\n",
       "      <td>1.000000</td>\n",
       "      <td>1.000000</td>\n",
       "      <td>0.000000</td>\n",
       "      <td>0.000000</td>\n",
       "      <td>0.000000</td>\n",
       "      <td>0.000000</td>\n",
       "      <td>0.000000</td>\n",
       "      <td>0.000000</td>\n",
       "      <td>0.000000</td>\n",
       "      <td>3.000000</td>\n",
       "      <td>136.000000</td>\n",
       "      <td>1.000000</td>\n",
       "      <td>52.000000</td>\n",
       "    </tr>\n",
       "    <tr>\n",
       "      <th>50%</th>\n",
       "      <td>0.000000</td>\n",
       "      <td>44.000000</td>\n",
       "      <td>1.000000</td>\n",
       "      <td>2.000000</td>\n",
       "      <td>1.000000</td>\n",
       "      <td>2.000000</td>\n",
       "      <td>1.000000</td>\n",
       "      <td>2.000000</td>\n",
       "      <td>1.000000</td>\n",
       "      <td>0.000000</td>\n",
       "      <td>1.000000</td>\n",
       "      <td>0.000000</td>\n",
       "      <td>0.000000</td>\n",
       "      <td>0.000000</td>\n",
       "      <td>1.000000</td>\n",
       "      <td>1.000000</td>\n",
       "      <td>10.000000</td>\n",
       "      <td>175.000000</td>\n",
       "      <td>1.000000</td>\n",
       "      <td>107.000000</td>\n",
       "    </tr>\n",
       "    <tr>\n",
       "      <th>75%</th>\n",
       "      <td>1.000000</td>\n",
       "      <td>57.000000</td>\n",
       "      <td>2.000000</td>\n",
       "      <td>2.000000</td>\n",
       "      <td>2.000000</td>\n",
       "      <td>2.000000</td>\n",
       "      <td>1.000000</td>\n",
       "      <td>3.000000</td>\n",
       "      <td>2.000000</td>\n",
       "      <td>0.000000</td>\n",
       "      <td>1.000000</td>\n",
       "      <td>0.000000</td>\n",
       "      <td>1.000000</td>\n",
       "      <td>1.000000</td>\n",
       "      <td>1.000000</td>\n",
       "      <td>1.000000</td>\n",
       "      <td>20.000000</td>\n",
       "      <td>213.000000</td>\n",
       "      <td>2.000000</td>\n",
       "      <td>166.000000</td>\n",
       "    </tr>\n",
       "    <tr>\n",
       "      <th>max</th>\n",
       "      <td>1.000000</td>\n",
       "      <td>70.000000</td>\n",
       "      <td>3.000000</td>\n",
       "      <td>3.000000</td>\n",
       "      <td>3.000000</td>\n",
       "      <td>3.000000</td>\n",
       "      <td>2.000000</td>\n",
       "      <td>5.000000</td>\n",
       "      <td>3.000000</td>\n",
       "      <td>2.000000</td>\n",
       "      <td>2.000000</td>\n",
       "      <td>1.000000</td>\n",
       "      <td>2.000000</td>\n",
       "      <td>2.000000</td>\n",
       "      <td>1.000000</td>\n",
       "      <td>1.000000</td>\n",
       "      <td>40.000000</td>\n",
       "      <td>250.000000</td>\n",
       "      <td>4.000000</td>\n",
       "      <td>365.000000</td>\n",
       "    </tr>\n",
       "  </tbody>\n",
       "</table>\n",
       "</div>"
      ],
      "text/plain": [
       "             Gender           Age     Ethnicity  Educational_Level  \\\n",
       "count  35529.000000  35529.000000  35529.000000       35529.000000   \n",
       "mean       0.362014     43.643024      1.303780           1.398520   \n",
       "std        0.480590     14.963889      1.023182           0.944419   \n",
       "min        0.000000     18.000000      0.000000           0.000000   \n",
       "25%        0.000000     31.000000      0.000000           1.000000   \n",
       "50%        0.000000     44.000000      1.000000           2.000000   \n",
       "75%        1.000000     57.000000      2.000000           2.000000   \n",
       "max        1.000000     70.000000      3.000000           3.000000   \n",
       "\n",
       "             Income  Country_region    Hotel_Type        Adults      Children  \\\n",
       "count  35529.000000    35529.000000  35529.000000  35529.000000  35529.000000   \n",
       "mean       1.089701        1.418616      0.814574      2.130598      1.575248   \n",
       "std        0.938000        0.949006      0.752995      1.045681      0.649534   \n",
       "min        0.000000        0.000000      0.000000      1.000000      1.000000   \n",
       "25%        0.000000        1.000000      0.000000      1.000000      1.000000   \n",
       "50%        1.000000        2.000000      1.000000      2.000000      1.000000   \n",
       "75%        2.000000        2.000000      1.000000      3.000000      2.000000   \n",
       "max        3.000000        3.000000      2.000000      5.000000      3.000000   \n",
       "\n",
       "             Babies     Meal_Type  Visted_Previously  Deposit_type  \\\n",
       "count  35529.000000  35529.000000       35529.000000  35529.000000   \n",
       "mean       0.228433      0.674266           0.145825      0.444088   \n",
       "std        0.473458      0.720968           0.352935      0.734005   \n",
       "min        0.000000      0.000000           0.000000      0.000000   \n",
       "25%        0.000000      0.000000           0.000000      0.000000   \n",
       "50%        0.000000      1.000000           0.000000      0.000000   \n",
       "75%        0.000000      1.000000           0.000000      1.000000   \n",
       "max        2.000000      2.000000           1.000000      2.000000   \n",
       "\n",
       "       Booking_channel  Required_Car_Parking  Use_Promotion  Discount_Rate  \\\n",
       "count     35529.000000          35529.000000   35529.000000   35529.000000   \n",
       "mean          0.567452              0.595570       0.710884      12.147485   \n",
       "std           0.775319              0.490788       0.453358      10.798521   \n",
       "min           0.000000              0.000000       0.000000       0.000000   \n",
       "25%           0.000000              0.000000       0.000000       3.000000   \n",
       "50%           0.000000              1.000000       1.000000      10.000000   \n",
       "75%           1.000000              1.000000       1.000000      20.000000   \n",
       "max           2.000000              1.000000       1.000000      40.000000   \n",
       "\n",
       "          Room_Rate  Expected_days_spend  Booked_before_checkin  \n",
       "count  35529.000000         35529.000000           35529.000000  \n",
       "mean     174.649920             1.638380             110.066762  \n",
       "std       43.754409             0.849452              67.380627  \n",
       "min      100.000000             1.000000               0.000000  \n",
       "25%      136.000000             1.000000              52.000000  \n",
       "50%      175.000000             1.000000             107.000000  \n",
       "75%      213.000000             2.000000             166.000000  \n",
       "max      250.000000             4.000000             365.000000  "
      ]
     },
     "execution_count": 8,
     "metadata": {},
     "output_type": "execute_result"
    }
   ],
   "source": [
    "train.describe()"
   ]
  },
  {
   "cell_type": "markdown",
   "id": "extended-gabriel",
   "metadata": {},
   "source": [
    "## Define functions for plots and prediction using xgboost model for multiclass classification"
   ]
  },
  {
   "cell_type": "code",
   "execution_count": 59,
   "id": "nervous-commonwealth",
   "metadata": {},
   "outputs": [],
   "source": [
    "import xgboost as xgb\n",
    "import matplotlib.pyplot as plt\n",
    "import seaborn as sns\n",
    "from sklearn.metrics import accuracy_score, f1_score\n",
    "from sklearn.model_selection import GridSearchCV\n",
    "\n",
    "def plot_compare(metrics,eval_results,epochs):\n",
    "    for m in metrics:\n",
    "        test_score = eval_results['dval'][m]\n",
    "        train_score = eval_results['dtrain'][m]\n",
    "        rang = range(0, epochs)\n",
    "        plt.rcParams[\"figure.figsize\"] = [6,6]\n",
    "        plt.plot(rang, test_score,\"c\", label=\"Val\")\n",
    "        plt.plot(rang, train_score,\"orange\", label=\"Train\")\n",
    "        title_name = m + \" plot\"\n",
    "        plt.title(title_name)\n",
    "        plt.xlabel('Iterations')\n",
    "        plt.ylabel(m)\n",
    "        lgd = plt.legend()\n",
    "        plt.show()\n",
    "        \n",
    "def fitXgb(sk_model,epochs=1000):\n",
    "    print('Fitting model...')\n",
    "    sk_model.fit(train,label_t)\n",
    "    print('Fitting done!')\n",
    "    dtrain = xgb.DMatrix(train, label=label_t)\n",
    "    dval = xgb.DMatrix(validation, label=label_v)\n",
    "    params = sk_model.get_xgb_params()\n",
    "    metrics = ['mlogloss','merror']\n",
    "    params['eval_metric'] = metrics\n",
    "    store = {}\n",
    "    evallist = [(dval, 'dval'),(dtrain,'dtrain')]\n",
    "    xgb_model = xgb.train(params, dtrain, epochs, evallist,evals_result=store,verbose_eval=100)\n",
    "    \n",
    "    print('-- Model Report --')\n",
    "    print('XGBoost F1-Score (Macro): '+str(f1_score(sk_model.predict(validation),label_v,average='macro')))\n",
    "    plot_compare(metrics,store,epochs)\n",
    "    \n",
    "    features = ['Gender', 'Age', 'Ethnicity', 'Educational_Level', 'Income',\n",
    "       'Country_region', 'Hotel_Type', 'Adults', 'Children', 'Babies',\n",
    "       'Meal_Type', 'Visted_Previously','Deposit_type', 'Booking_channel', 'Required_Car_Parking',\n",
    "       'Use_Promotion', 'Discount_Rate', 'Room_Rate', 'Expected_days_spend',\n",
    "       'Booked_before_checkin']\n",
    "    \n",
    "    f, ax = plt.subplots(figsize=(10,5))\n",
    "    plot = sns.barplot(x=features, y=sk_model.feature_importances_)\n",
    "    ax.set_title('Feature Importance')\n",
    "    plot.set_xticklabels(plot.get_xticklabels(),rotation='vertical')\n",
    "    plt.show()"
   ]
  },
  {
   "cell_type": "markdown",
   "id": "coastal-atlantic",
   "metadata": {},
   "source": [
    "## Build xgboost model"
   ]
  },
  {
   "cell_type": "code",
   "execution_count": 61,
   "id": "growing-armenia",
   "metadata": {},
   "outputs": [],
   "source": [
    "from xgboost.sklearn import XGBClassifier\n",
    "\n",
    "xgb1 = XGBClassifier(learning_rate=0.1,\n",
    "                    n_estimators=1000,\n",
    "                    max_depth=3,\n",
    "                    min_child_weight=5,\n",
    "                    reg_alpha=100,\n",
    "                    gamma=0,\n",
    "                    subsample=0.8,\n",
    "                    colsample_bytree=0.8,\n",
    "                    objective='multi:softmax',\n",
    "                    nthread=4,\n",
    "                    num_class=3,\n",
    "                    seed=27)"
   ]
  },
  {
   "cell_type": "markdown",
   "id": "fifteen-poster",
   "metadata": {},
   "source": [
    "## Run the function for prediction and calculate f1 score for validation dataset"
   ]
  },
  {
   "cell_type": "code",
   "execution_count": 62,
   "id": "individual-letters",
   "metadata": {},
   "outputs": [
    {
     "name": "stdout",
     "output_type": "stream",
     "text": [
      "Fitting model...\n",
      "Fitting done!\n",
      "[0]\tdval-mlogloss:1.09129\tdval-merror:0.548698\tdtrain-mlogloss:1.09135\tdtrain-merror:0.55321\n",
      "[100]\tdval-mlogloss:0.916875\tdval-merror:0.441521\tdtrain-mlogloss:0.916712\tdtrain-merror:0.43373\n",
      "[200]\tdval-mlogloss:0.882939\tdval-merror:0.42577\tdtrain-mlogloss:0.882085\tdtrain-merror:0.416927\n",
      "[300]\tdval-mlogloss:0.868394\tdval-merror:0.41925\tdtrain-mlogloss:0.866966\tdtrain-merror:0.406963\n",
      "[400]\tdval-mlogloss:0.861853\tdval-merror:0.416219\tdtrain-mlogloss:0.860188\tdtrain-merror:0.403164\n",
      "[500]\tdval-mlogloss:0.857752\tdval-merror:0.414887\tdtrain-mlogloss:0.855967\tdtrain-merror:0.40215\n",
      "[600]\tdval-mlogloss:0.855657\tdval-merror:0.41351\tdtrain-mlogloss:0.853735\tdtrain-merror:0.400856\n",
      "[700]\tdval-mlogloss:0.854242\tdval-merror:0.412821\tdtrain-mlogloss:0.852153\tdtrain-merror:0.400349\n",
      "[800]\tdval-mlogloss:0.853464\tdval-merror:0.412729\tdtrain-mlogloss:0.851298\tdtrain-merror:0.399842\n",
      "[900]\tdval-mlogloss:0.852661\tdval-merror:0.411581\tdtrain-mlogloss:0.850361\tdtrain-merror:0.399476\n",
      "[999]\tdval-mlogloss:0.852014\tdval-merror:0.411397\tdtrain-mlogloss:0.849588\tdtrain-merror:0.398914\n",
      "-- Model Report --\n",
      "XGBoost F1-Score (Macro): 0.5790802666217566\n"
     ]
    },
    {
     "data": {
      "image/png": "[encoded data removed]",
      "text/plain": [
       "<Figure size 432x432 with 1 Axes>"
      ]
     },
     "metadata": {
      "needs_background": "light"
     },
     "output_type": "display_data"
    },
    {
     "data": {
      "image/png": "[encoded data removed]",
      "text/plain": [
       "<Figure size 432x432 with 1 Axes>"
      ]
     },
     "metadata": {
      "needs_background": "light"
     },
     "output_type": "display_data"
    },
    {
     "data": {
      "image/png": "[encoded data removed]",
      "text/plain": [
       "<Figure size 720x360 with 1 Axes>"
      ]
     },
     "metadata": {
      "needs_background": "light"
     },
     "output_type": "display_data"
    }
   ],
   "source": [
    "fitXgb(xgb1)"
   ]
  },
  {
   "cell_type": "markdown",
   "id": "gorgeous-significance",
   "metadata": {},
   "source": [
    "## Get predictions for test dataset"
   ]
  },
  {
   "cell_type": "code",
   "execution_count": 63,
   "id": "criminal-turning",
   "metadata": {},
   "outputs": [],
   "source": [
    "predict = xgb1.predict(test)"
   ]
  },
  {
   "cell_type": "markdown",
   "id": "significant-ribbon",
   "metadata": {},
   "source": [
    "## Write predictions to csv"
   ]
  },
  {
   "cell_type": "code",
   "execution_count": 66,
   "id": "radical-likelihood",
   "metadata": {},
   "outputs": [],
   "source": [
    "Reservation_Status=pd.DataFrame(predict,columns=['Reservation_Status'])\n",
    "change_v = {'Reservation_Status':{2:1,1:2,0:3}}\n",
    "Reservation_Status.replace(change_v, inplace=True)\n",
    "\n",
    "submit = pd.read_csv('C:/Users/Shankeerthan/Desktop/Data Storm 2021/submit.csv')\n",
    "submit=pd.concat([submit,Reservation_Status],axis=1)\n",
    "export_csv=submit.to_csv('C:/Users/Shankeerthan/Desktop/Data Storm 2021/submit.csv',index=None)"
   ]
  }
 ],
 "metadata": {
  "kernelspec": {
   "display_name": "Python 3",
   "language": "python",
   "name": "python3"
  },
  "language_info": {
   "codemirror_mode": {
    "name": "ipython",
    "version": 3
   },
   "file_extension": ".py",
   "mimetype": "text/x-python",
   "name": "python",
   "nbconvert_exporter": "python",
   "pygments_lexer": "ipython3",
   "version": "3.7.3"
  }
 },
 "nbformat": 4,
 "nbformat_minor": 5
}
